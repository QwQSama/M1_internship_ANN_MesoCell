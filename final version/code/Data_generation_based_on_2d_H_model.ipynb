{
 "cells": [
  {
   "cell_type": "code",
   "execution_count": 1,
   "id": "57885186",
   "metadata": {},
   "outputs": [],
   "source": [
    "import numpy as np\n",
    "import copy\n",
    "import matplotlib.pyplot as plt"
   ]
  },
  {
   "cell_type": "code",
   "execution_count": 2,
   "id": "5a462412",
   "metadata": {},
   "outputs": [],
   "source": [
    "global kn, kt, phig, alpOmega, belOmega, ntheta, radius, confining\n",
    "\"\"\"\n",
    "Constitutive paramters:\n",
    "- Normal contact stiffness (kn)\n",
    "- Contact stiffness ratio kn/kt (ratioK)\n",
    "- Inter-granular friction angle (phig)\n",
    "- Anisotropy of the distribution (alphaOmega)\n",
    "- Principal direction of anisotropy (beltaOmega)\n",
    "- Initial opening angle (alpha0)\n",
    "\"\"\"\n",
    "kn = 2.0e8 \n",
    "kt = 0.5 * kn\n",
    "phig = 30*np.pi/180\n",
    "alpOmega = 0\n",
    "belOmega = 0\n",
    "confining = 200000 # paraThesis Guillaume in th\n",
    "\n",
    "\n",
    "\"\"\"\n",
    "Computation constant:\n",
    "- Radius of particles (radius)\n",
    "- Number of the directions of cells (ntheta)\n",
    "- The limits of the directions of cells (thetaMin, thetaMax)\n",
    "- localization hypothesis (locV): 'Vhexagon', 'Vboxin', 'Vboxout'\n",
    "\"\"\"\n",
    "radius = 1\n",
    "ntheta = 360\n",
    "thetaMin = 0\n",
    "thetaMax = np.pi\n",
    "locV = 'Vhexagon'\n",
    "savepath = \"/home/naa/Desktop/H_model_prediction/original_paraThesis_p200_al50_\"\n",
    "\n",
    "# Labels of grains in the hexagon\n",
    "#     O1\n",
    "#   O2  O6\n",
    "#   O3  O5\n",
    "#     O4"
   ]
  },
  {
   "cell_type": "code",
   "execution_count": 3,
   "id": "e57892a5",
   "metadata": {},
   "outputs": [],
   "source": [
    "class MesoCell:\n",
    "    \"\"\"\n",
    "    Define a class of meso cell object. Each hexagon has the following attributes:\n",
    "    - its id which related to the direction of the cell(id)\n",
    "    - its branch lenghts (d1, d2)\n",
    "    - its opening angle (alpha)\n",
    "    - the normal andnp.tangential forces of contant 1 (Fn1, Ft1) (see Nicot et al 2011)\n",
    "    - the normal forces of contact 2 (Fn2)\n",
    "    - its hexagon lengths(l1,l2)\n",
    "    - three options of the volume (Vboxout, Vboxin, Vhexagon)\n",
    "    - its direction (theta)\n",
    "    - the weight of this direction (ome)\n",
    "    - the Love-Weber stress multiplied by volume in the local frame (n, t) (vsignn, vsigtt)\n",
    "    - the Love-Weber stress multiplied by volume in the global frame (e1, e2) (vsig11, vsig22)\n",
    "    - the fabric tensor multiplied by the number of contacts in the local frame (n, t) (cfabnn, cfabtt)\n",
    "    - the fabric tensor  multiplied by the number of contacts in the global frame (e1, e2) (cfab11, cfab22)\n",
    "    - whether sliding exsits at the contact 1 (Sliding1)\n",
    "    - whether the contact between grain1 and 2 (grains 2 and 3) is open (opening12, opening23)\n",
    "    - whether the particle 2 and 4 or particle 2 and 6 are contacted (IsCont14, IsCont26)\n",
    "    \"\"\"\n",
    "\n",
    "    def __init__(self, id, theta, alpha0 = 50* np.pi / 180):\n",
    "        self.id = id\n",
    "        self.alpha = alpha0\n",
    "        self.radius = radius\n",
    "        self.d1 = 2 * self.radius\n",
    "        self.d2 = 2 * self.radius\n",
    "        self.Fn1 = 0.0\n",
    "        self.Ft1 = 0.0\n",
    "        self.Fn2 = 0.0\n",
    "        self.nContact = 6\n",
    "\n",
    "        self.l1 = self.d2 + 2 * self.d1 *np.cos(self.alpha)\n",
    "        self.l2 = 2 * self.d1 *np.sin(self.alpha)\n",
    "        self.l10 = self.l1\n",
    "        self.l20 = self.l2\n",
    "        if locV == 'Vhexagon':\n",
    "            Vr1 = 0; Vr2 = -np.cos(self.alpha)\n",
    "        if locV == 'Vboxin':\n",
    "            Vr1 = 0; Vr2 = 0\n",
    "        if locV == 'Vboxout':\n",
    "            Vr1 = 1; Vr2 = 1\n",
    "        self.Vcell0 = (self.l1 + Vr1 * 2 * self.radius) * (self.l2 + Vr2 * 2 * self.radius)\n",
    "\n",
    "        self.theta = theta\n",
    "        self.omega = 1 / np.pi * (1 + alpOmega *np.cos(2 * (theta - belOmega))) * np.pi / ntheta # indeed it is omega*dtheta\n",
    "\n",
    "        self.vsignn = 0.0\n",
    "        self.vsigtt = 0.0\n",
    "\n",
    "        self.vsig11 = 0.0\n",
    "        self.vsig22 = 0.0\n",
    "        self.vsig12 = 0.0\n",
    "\n",
    "        self.Sliding1 = False\n",
    "        self.Opening12 = False # the contact between grains1 and 2\n",
    "        self.Opening23 = False # the contact between grains2 and 3\n",
    "        self.IsCont14 = False\n",
    "        self.IsCont26 = False\n",
    "    \n",
    "    def node_position(self):\n",
    "        r = self.radius\n",
    "        l1 = self.l1\n",
    "        l2 = self.l2\n",
    "        cosa =np.cos(self.alpha)\n",
    "        sina =np.sin(self.alpha)\n",
    "        d1 = self.d1\n",
    "        d2 = self.d2\n",
    "        \n",
    "        x = [0,-d1*sina,-d1*sina,0,d1*sina,d1*sina]\n",
    "        y = [d2/2+d1*cosa,d2/2,-d2/2,-d2/2-d1*cosa,-d2/2,d2/2]\n",
    "        \n",
    "        cos_theta =np.cos(self.theta)\n",
    "        sin_theta =np.sin(self.theta)\n",
    "            \n",
    "        n = len(x)\n",
    "        for i in range(n):\n",
    "            x0,y0 = x[i],y[i]\n",
    "            x[i] =cos_theta*x0 + sin_theta*y0\n",
    "            y[i] =sin_theta*x0 + cos_theta*y0\n",
    "        \n",
    "        return (x,y)\n",
    "\n",
    "    def Substrain(self, edl1, edl2):\n",
    "        \"\"\"\n",
    "        Update cell information for given macroscopic incremental strains (soil mechanics sign convention)\n",
    "        \"\"\"\n",
    "        G2 = 1  # 1: considering G2 in the new version of H (2021); 0: without G2 in the old version (Nicot et al 2011)\n",
    "\n",
    "        # select the localization hypothesis\n",
    "        if locV == 'Vhexagon':\n",
    "            Vr1 = 0; Vr2 = -np.cos(self.alpha)\n",
    "        if locV == 'Vboxin':\n",
    "            Vr1 = 0; Vr2 = 0\n",
    "        if locV == 'Vboxout':\n",
    "            Vr1 = 1; Vr2 = 1\n",
    "\n",
    "#         dl1 = -self.l1 * (deps11 * pow(cos(self.theta), 2.0) + deps22 * pow(sin(self.theta), 2.0) + 2 * deps12 *np.cos(self.theta) *np.sin(self.theta))\n",
    "#         dl2 = -self.l2 * (deps11 * pow(sin(self.theta), 2.0) + deps22 * pow(cos(self.theta), 2.0) - 2 * deps12 *np.cos(self.theta) * sin(self.theta))\n",
    "\n",
    "        dl1 = -edl1 * self.l10\n",
    "        dl2 = -edl2 * self.l20\n",
    "        # geometrical relationships\n",
    "        K11 = 2.0 * np.cos(self.alpha)\n",
    "        K12 = 1.0\n",
    "        K13 = -2.0 * self.d1 * np.sin(self.alpha)\n",
    "        K21 = 2.0 * np.sin(self.alpha)\n",
    "        K22 = 0.0\n",
    "        K23 = 2.0 * self.d1 * np.cos(self.alpha)\n",
    "\n",
    "        # closure : static equilibrium, assume no sliding\n",
    "        K31 = np.cos(self.alpha)\n",
    "        K32 = -1.0\n",
    "        K33 = (self.Fn1 * np.sin(self.alpha) - self.Ft1 *np.cos(self.alpha) - kt * self.d1 * (G2 + np.sin(self.alpha))) / kn\n",
    "\n",
    "        # right hand side of the compatibility equation, assume no sliding\n",
    "        L1 = dl1\n",
    "        L2 = dl2\n",
    "        L3 = 0\n",
    "\n",
    "        K = np.array([[K11, K12, K13], \n",
    "                      [K21, K22, K23], \n",
    "                      [K31, K32, K33]])\n",
    "        L = np.array([L1, L2, L3])\n",
    "        solve = np.linalg.solve(K, L)  # check whether it solves K.X=L with X unknown\n",
    "\n",
    "        dd1 = solve[0]\n",
    "        dd2 = solve[1]\n",
    "        dalpha = solve[2]\n",
    "\n",
    "        dFn1 = -kn * dd1\n",
    "        dFt1 = kt * (self.d1 * dalpha) \n",
    "        dFn2 = -kn * dd2\n",
    "\n",
    "        if abs(self.Ft1 + dFt1) < abs(np.tan(phig) * (self.Fn1 - kn * dd1)):\n",
    "            self.Sliding1 = False\n",
    "        else:\n",
    "            self.Sliding1 = True\n",
    "            \n",
    "            xi = -1\n",
    "            if self.Ft1 > 0:\n",
    "                xi = 1\n",
    "\n",
    "            K31 =np.cos(self.alpha) + xi *np.tan(phig) * (G2 + np.sin(self.alpha))\n",
    "            K33 = (self.Fn1 * np.sin(self.alpha) - self.Ft1 *np.cos(self.alpha)) / kn\n",
    "            L3 = (xi * (G2 + np.sin(self.alpha)) * (np.tan(phig) * self.Fn1 - self.Ft1)) / kn \n",
    "\n",
    "            K = np.array([[K11, K12, K13], \n",
    "                          [K21, K22, K23], \n",
    "                          [K31, K32, K33]])\n",
    "            L = np.array([L1, L2, L3])\n",
    "            solve = np.linalg.solve(K, L)\n",
    "\n",
    "            dd1 = solve[0]\n",
    "            dd2 = solve[1]\n",
    "            dalpha = solve[2]\n",
    "\n",
    "            dFn1 = -kn * dd1\n",
    "            dFn2 = -kn * dd2\n",
    "            dFt1 = xi*np.tan(phig)*(self.Fn1+dFn1)-self.Ft1\n",
    "\n",
    "        self.d1 += dd1\n",
    "        self.d2 += dd2\n",
    "        self.alpha += dalpha\n",
    "\n",
    "        self.l1 += dl1\n",
    "        self.l2 += dl2\n",
    "\n",
    "        self.Vcell = (self.l1 + Vr2 * 2 * self.radius) * (self.l2 + Vr1 * 2 * self.radius)\n",
    "        self.Fn1 += dFn1\n",
    "        self.Ft1 += dFt1\n",
    "        self.Fn2 += dFn2\n",
    "\n",
    "        # Check for pathological cases\n",
    "        vcorsignn, vcorsigtt = 0, 0\n",
    "\n",
    "        if self.l1 - 2* self.radius <= 0:\n",
    "            self.IsCont14 = True\n",
    "            self.nContact += 1\n",
    "            vcorsignn = kn * (2 * self.radius - self.l1) * self.l1\n",
    "        else:\n",
    "            self.IsCont14 = False\n",
    "\n",
    "\n",
    "        if self.l2 - 2 * self.radius <= 0:\n",
    "            self.IsCont26 = True\n",
    "            self.nContact += 2\n",
    "            vcorsigtt = 2 * kn * (2 * self.radius - self.l2) * self.l2\n",
    "        else:\n",
    "            self.IsCont26 = False\n",
    "\n",
    "\n",
    "        if self.d1 > 2 * self.radius:\n",
    "            #self.Fn2 = 0\n",
    "            self.Fn1, self.Ft1 = 0, 0\n",
    "            self.Opening12 = True\n",
    "            #self.Vcell = 0\n",
    "            self.nContact -= 4\n",
    "        else:\n",
    "            self.Opening12 = False\n",
    "\n",
    "        if self.d2 > 2 * self.radius: #self.Fn2 < 0:\n",
    "            self.Fn2 = 0\n",
    "            #self.Fn1, self.Ft1 = 0, 0\n",
    "            self.Opening23 = True\n",
    "            #self.Vcell = 0\n",
    "            self.nContact -= 2\n",
    "        else:\n",
    "            self.Opening23 = False\n",
    "\n",
    "        # Update the stress (it includes pathological corrections)\n",
    "        self.vsignn = 4.0 * self.Fn1 * self.d1 * pow(np.cos(self.alpha), 2.0) + 4.0 * self.Ft1 * self.d1 *np.cos(\n",
    "            self.alpha) * np.sin(self.alpha) + 2.0 * self.Fn2 * self.d2 + vcorsignn\n",
    "        self.vsigtt = 4.0 * self.Fn1 * self.d1 * pow(np.sin(self.alpha), 2.0) - 4.0 * self.Ft1 * self.d1 *np.cos(\n",
    "            self.alpha) * np.sin(self.alpha) + vcorsigtt\n",
    "\n",
    "        self.vsig11 = self.vsignn *np.cos(self.theta) ** 2 + self.vsigtt * np.sin(self.theta) ** 2\n",
    "        self.vsig22 = self.vsignn * np.sin(self.theta) ** 2 + self.vsigtt *np.cos(self.theta) ** 2\n",
    "        self.vsig12 = (self.vsignn - self.vsigtt) * np.sin(self.theta) *np.cos(self.theta)\n",
    "        #output with /V"
   ]
  },
  {
   "cell_type": "code",
   "execution_count": 4,
   "id": "34d4bb04",
   "metadata": {},
   "outputs": [],
   "source": [
    "#Output Shape of the cell\n",
    "def display(example, ball_filling = False):\n",
    "    px,py = example.node_position()\n",
    "    n = len(px)\n",
    "\n",
    "    r = radius\n",
    "    fig, ax = plt.subplots(figsize=(4,4))\n",
    "    \n",
    "    color_list = ['#1f77b4', '#ff7f0e', '#2ca02c', '#d62728', '#9467bd', '#8c564b']\n",
    "    for i in range(n):\n",
    "        circle = plt.Circle((px[i], py[i]), r, color=color_list[i], fill=ball_filling)\n",
    "        plt.gcf().gca().add_artist(circle)\n",
    "\n",
    "    plt.axis('equal')\n",
    "    plt.xlim(-4, 4)\n",
    "    plt.ylim(-4, 4)\n",
    "    plt.show()\n",
    "    \n",
    "    print(\"number_contact: \", example.nContact)\n",
    "    print(\"The sliding happens?\", example.Sliding1)\n",
    "    print('d1 = ', example.d1)\n",
    "    print('d2 = ', example.d2)    \n",
    "    print('l1 = ', example.l1)    \n",
    "    print('l2 = ', example.l2)    \n",
    "    print('N1 = ', example.Fn1)\n",
    "    print('N2 = ', example.Fn2)    \n",
    "    print('T1 = ', example.Ft1)    "
   ]
  },
  {
   "cell_type": "code",
   "execution_count": 5,
   "id": "7339259d",
   "metadata": {},
   "outputs": [
    {
     "data": {
      "image/png": "[encoded data removed]",
      "text/plain": [
       "<Figure size 400x400 with 1 Axes>"
      ]
     },
     "metadata": {},
     "output_type": "display_data"
    },
    {
     "name": "stdout",
     "output_type": "stream",
     "text": [
      "number_contact:  6\n",
      "The sliding happens? False\n",
      "d1 =  1.7851365262699679\n",
      "d2 =  1.8462469204634493\n",
      "l1 =  4.114035394871541\n",
      "l2 =  2.7577599952283207\n",
      "N1 =  42972694.74600641\n",
      "N2 =  30750615.907310158\n",
      "T1 =  1771359.8216195295\n"
     ]
    }
   ],
   "source": [
    "#a test\n",
    "cell = MesoCell(1,0)\n",
    "cell.Substrain(0.1,0.1)\n",
    "display(cell)"
   ]
  },
  {
   "cell_type": "markdown",
   "id": "e836c050",
   "metadata": {},
   "source": [
    "For database:\n",
    "\n",
    "Input:\\\n",
    "alpha0\\\n",
    "Matrix $\\epsilon$ for $\\frac{dl1}{l1}$ and $\\frac{dl2}{l2}$ : 0 - 0.3 \\\n",
    "(l1, l2 , $\\alpha$)\n",
    "\n",
    "Output:\\\n",
    "d1\\\n",
    "d2\\\n",
    "alpha\\\n",
    "N1\\\n",
    "N2\\\n",
    "T1\n",
    "\n"
   ]
  },
  {
   "cell_type": "code",
   "execution_count": 6,
   "id": "9d849b2d",
   "metadata": {},
   "outputs": [],
   "source": [
    "ang_step = np.pi/180\n",
    "e_step = 0.1/100\n",
    "alpha0_step = np.pi/180*2\n",
    "\n",
    "ang_list =  np.arange(0, np.pi/2 + ang_step, ang_step)\n",
    "alpha0_list = np.arange(np.pi/6 + 0.1 * alpha0_step, np.pi/2 - 0.1 * alpha0_step, alpha0_step)"
   ]
  },
  {
   "cell_type": "code",
   "execution_count": 7,
   "id": "29d0be45",
   "metadata": {},
   "outputs": [
    {
     "name": "stdout",
     "output_type": "stream",
     "text": [
      "90.0\n",
      "88.20000000000009\n"
     ]
    }
   ],
   "source": [
    "print(ang_list[-1] * 180 / np.pi)\n",
    "print(alpha0_list[-1] * 180 / np.pi)"
   ]
  },
  {
   "cell_type": "code",
   "execution_count": 8,
   "id": "81491e28",
   "metadata": {},
   "outputs": [],
   "source": [
    "x = []\n",
    "y = []\n",
    "init_cell = []\n",
    "\n",
    "for alpha0 in alpha0_list:\n",
    "    for ang in ang_list:\n",
    "        \n",
    "        e_sum = 0\n",
    "        e1_sum = 0\n",
    "        e2_sum = 0\n",
    "        js = 0\n",
    "        e1_step = e_step * np.cos(ang)\n",
    "        e2_step = e_step * np.sin(ang)\n",
    "        cell = MesoCell (1,0,alpha0)\n",
    "        \n",
    "        while e_sum < 30/100:\n",
    "            e_sum += e_step\n",
    "            e1_sum += e1_step\n",
    "            e2_sum += e2_step\n",
    "            js += 1\n",
    "            \n",
    "            cell.Substrain(e1_step,e2_step)\n",
    "            if cell.alpha/np.pi*180 < 31 or cell.alpha/np.pi*180 > 89:\n",
    "                break;\n",
    "            x.append([e1_sum,e2_sum,alpha0,cell.l10,cell.l20,cell.Fn1,cell.Fn2,cell.Ft1])\n",
    "            y.append([cell.Fn1,cell.Fn2,cell.Ft1,cell.alpha,cell.l1,cell.l2])\n",
    "                \n",
    "            if js == 10:\n",
    "                init_cell.append(copy.deepcopy(cell))\n",
    "                js = 0"
   ]
  },
  {
   "cell_type": "code",
   "execution_count": 9,
   "id": "30c8bb69",
   "metadata": {},
   "outputs": [
    {
     "name": "stdout",
     "output_type": "stream",
     "text": [
      "x shape (8, 746898)\n",
      "y shape (6, 746898)\n",
      "74538\n"
     ]
    }
   ],
   "source": [
    "x = np.array(x).T\n",
    "print('x shape', x.shape)\n",
    "y = np.array(y).T\n",
    "print('y shape', y.shape)\n",
    "print(len(init_cell))"
   ]
  },
  {
   "cell_type": "code",
   "execution_count": 10,
   "id": "573327fe",
   "metadata": {},
   "outputs": [],
   "source": [
    "for cell in init_cell:\n",
    "    if cell.alpha > np.pi/2 or cell.alpha <np.pi/6:\n",
    "        print(cell.alpha)"
   ]
  },
  {
   "cell_type": "code",
   "execution_count": 11,
   "id": "faeb16c1",
   "metadata": {},
   "outputs": [],
   "source": [
    "np.savetxt('new_input1.txt',x)\n",
    "np.savetxt('new_output1.txt',y)"
   ]
  },
  {
   "cell_type": "code",
   "execution_count": 12,
   "id": "4df7bec4",
   "metadata": {},
   "outputs": [],
   "source": [
    "# x_read = np.loadtxt('input1.txt')\n",
    "# print(x_read == x)"
   ]
  },
  {
   "cell_type": "code",
   "execution_count": 13,
   "id": "d07b6994",
   "metadata": {},
   "outputs": [
    {
     "name": "stdout",
     "output_type": "stream",
     "text": [
      "10\n"
     ]
    }
   ],
   "source": [
    "ang_step = np.pi/180 * 2\n",
    "e_k = int(np.floor(1/100 / e_step))\n",
    "ang_list =  np.arange(0, np.pi*2, ang_step)\n",
    "print(e_k)"
   ]
  },
  {
   "cell_type": "code",
   "execution_count": 14,
   "id": "52c26445",
   "metadata": {},
   "outputs": [],
   "source": [
    "# take 2-3 hours don't do it again QAQ\n",
    "x = []\n",
    "y = []\n",
    "\n",
    "for init_c in init_cell:\n",
    "    for ang in ang_list:\n",
    "        cell = copy.deepcopy(init_c)\n",
    "        e1_step = e_step * np.cos(ang)\n",
    "        e2_step = e_step * np.sin(ang)\n",
    "        alpha = cell.alpha\n",
    "        l1 = cell.l1\n",
    "        l2 = cell.l2\n",
    "        for i in range(e_k):\n",
    "            cell.Substrain(e1_step, e2_step)\n",
    "        if cell.alpha < np.pi/6 or cell.alpha > np.pi/2:\n",
    "            continue;        \n",
    "        x.append([e_k * e1_step,e_k * e2_step, alpha, l1, l2,cell.Fn1,cell.Fn2,cell.Ft1])\n",
    "        y.append([cell.Fn1,cell.Fn2,cell.Ft1,cell.alpha,cell.l1,cell.l2])\n"
   ]
  },
  {
   "cell_type": "code",
   "execution_count": 15,
   "id": "ec59ee90",
   "metadata": {},
   "outputs": [
    {
     "name": "stdout",
     "output_type": "stream",
     "text": [
      "x shape (8, 13367016)\n",
      "y shape (6, 13367016)\n"
     ]
    }
   ],
   "source": [
    "x = np.array(x).T\n",
    "print('x shape', x.shape)\n",
    "y = np.array(y).T\n",
    "print('y shape', y.shape)"
   ]
  },
  {
   "cell_type": "code",
   "execution_count": 16,
   "id": "fae0adea",
   "metadata": {},
   "outputs": [],
   "source": [
    "np.savetxt('new_input2.txt',x)\n",
    "np.savetxt('new_output2.txt',y)"
   ]
  },
  {
   "cell_type": "code",
   "execution_count": 17,
   "id": "753e196b",
   "metadata": {},
   "outputs": [],
   "source": [
    "x = np.loadtxt('new_input2.txt')\n",
    "y = np.loadtxt('new_output2.txt')"
   ]
  },
  {
   "cell_type": "code",
   "execution_count": 18,
   "id": "87504e56",
   "metadata": {},
   "outputs": [
    {
     "name": "stdout",
     "output_type": "stream",
     "text": [
      "x shape (13367016, 8)\n",
      "y shape (13367016, 6)\n"
     ]
    }
   ],
   "source": [
    "x = np.array(x).T\n",
    "print('x shape', x.shape)\n",
    "y = np.array(y).T\n",
    "print('y shape', y.shape)"
   ]
  },
  {
   "cell_type": "code",
   "execution_count": null,
   "id": "3e3c1cdd",
   "metadata": {},
   "outputs": [],
   "source": []
  }
 ],
 "metadata": {
  "kernelspec": {
   "display_name": "Python 3 (ipykernel)",
   "language": "python",
   "name": "python3"
  },
  "language_info": {
   "codemirror_mode": {
    "name": "ipython",
    "version": 3
   },
   "file_extension": ".py",
   "mimetype": "text/x-python",
   "name": "python",
   "nbconvert_exporter": "python",
   "pygments_lexer": "ipython3",
   "version": "3.10.12"
  }
 },
 "nbformat": 4,
 "nbformat_minor": 5
}
