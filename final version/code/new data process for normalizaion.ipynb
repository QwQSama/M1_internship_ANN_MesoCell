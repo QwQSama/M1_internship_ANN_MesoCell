{
 "cells": [
  {
   "cell_type": "code",
   "execution_count": 1,
   "id": "5e065736",
   "metadata": {},
   "outputs": [],
   "source": [
    "import numpy as np\n",
    "import pickle\n",
    "from sklearn.preprocessing import MinMaxScaler, StandardScaler, RobustScaler"
   ]
  },
  {
   "cell_type": "code",
   "execution_count": 2,
   "id": "d3afab49",
   "metadata": {},
   "outputs": [],
   "source": [
    "x_train = np.loadtxt('new_600k_x_train_2nd_set_only_Grid')\n",
    "x_test = np.loadtxt('new_600k_x_test_2nd_set_only_Grid')\n",
    "y_train = np.loadtxt('new_600k_y_train_2nd_set_only_Grid')\n",
    "y_test = np.loadtxt('new_600k_y_test_2nd_set_only_Grid')"
   ]
  },
  {
   "cell_type": "code",
   "execution_count": 3,
   "id": "a4dac58a",
   "metadata": {},
   "outputs": [
    {
     "name": "stdout",
     "output_type": "stream",
     "text": [
      "(600000, 8) (400000, 8)\n"
     ]
    }
   ],
   "source": [
    "print(x_train.shape, x_test.shape)"
   ]
  },
  {
   "cell_type": "code",
   "execution_count": 4,
   "id": "2e670c3c",
   "metadata": {},
   "outputs": [],
   "source": [
    "x_combined = np.vstack((x_train, x_test))\n",
    "y_combined = np.vstack((y_train, y_test))\n",
    "\n",
    "kn = 2.0e8 \n",
    "kt = 0.5 * kn\n",
    "factors = np.array([kn*1e-4,kn*1e-4,kt*1e-4,1e4])\n",
    "\n",
    "y_combined_multiplied = y_combined * factors\n",
    "\n",
    "y_train_multiplied = y_combined_multiplied[:len(y_train)]\n",
    "y_test_multiplied = y_combined_multiplied[len(y_train):]"
   ]
  },
  {
   "cell_type": "code",
   "execution_count": 5,
   "id": "7f225d28",
   "metadata": {},
   "outputs": [
    {
     "name": "stdout",
     "output_type": "stream",
     "text": [
      "(600000, 4)\n",
      "(400000, 4)\n",
      "[30322.4735368  11763.11555877  3728.03161737 15679.12659662]\n"
     ]
    }
   ],
   "source": [
    "print(y_train_multiplied.shape)\n",
    "print(y_test_multiplied.shape)\n",
    "print(np.max(y_train_multiplied,axis = 0))\n"
   ]
  },
  {
   "cell_type": "code",
   "execution_count": 6,
   "id": "6dde76cc",
   "metadata": {},
   "outputs": [],
   "source": [
    "np.savetxt('new_600k_y_train_multiplied.txt', y_train_multiplied)\n",
    "np.savetxt('new_600k_y_test_multiplied.txt', y_test_multiplied)"
   ]
  },
  {
   "cell_type": "code",
   "execution_count": 7,
   "id": "6fc36cdf",
   "metadata": {},
   "outputs": [],
   "source": [
    "# Define normalization functions that also return the scaler\n",
    "def min_max_scaling(data):\n",
    "    scaler = MinMaxScaler()\n",
    "    scaled_data = scaler.fit_transform(data)\n",
    "    return scaled_data, scaler\n",
    "\n",
    "def z_score_standardization(data):\n",
    "    scaler = StandardScaler()\n",
    "    scaled_data = scaler.fit_transform(data)\n",
    "    return scaled_data, scaler\n",
    "\n",
    "def robust_scaling(data):\n",
    "    scaler = RobustScaler()\n",
    "    scaled_data = scaler.fit_transform(data)\n",
    "    return scaled_data, scaler\n",
    "\n",
    "def unit_vector_scaling(data):\n",
    "    norms = np.linalg.norm(data, axis=1)\n",
    "    scaled_data = data / norms[:, np.newaxis]\n",
    "    return scaled_data\n",
    "\n",
    "def max_absolute_scaling(data):\n",
    "    max_abs = np.max(np.abs(data), axis=0)\n",
    "    scaled_data = data / max_abs\n",
    "    return scaled_data\n"
   ]
  },
  {
   "cell_type": "code",
   "execution_count": 8,
   "id": "65f2d91b",
   "metadata": {},
   "outputs": [],
   "source": [
    "# Apply each normalization function to the combined input data\n",
    "x_train_normalized_min_max, x_scaler_min_max = min_max_scaling(x_train)\n",
    "x_test_normalized_min_max = x_scaler_min_max.transform(x_test)\n",
    "\n",
    "x_train_standardized_z_score, x_scaler_z_score = z_score_standardization(x_train)\n",
    "x_test_standardized_z_score = x_scaler_z_score.transform(x_test)\n",
    "\n",
    "x_train_robust_scaled, x_scaler_robust = robust_scaling(x_train)\n",
    "x_test_robust_scaled = x_scaler_robust.transform(x_test)\n",
    "\n",
    "x_train_normalized_unit_vector = unit_vector_scaling(x_train)\n",
    "x_test_normalized_unit_vector = unit_vector_scaling(x_test)\n",
    "\n",
    "x_train_scaled_max_abs = max_absolute_scaling(x_train)\n",
    "x_test_scaled_max_abs = max_absolute_scaling(x_test)"
   ]
  },
  {
   "cell_type": "code",
   "execution_count": 9,
   "id": "663f5768",
   "metadata": {},
   "outputs": [],
   "source": [
    "# Save the scalers that need to be saved\n",
    "with open('x_scaler_min_max.pkl', 'wb') as x_scaler_min_max_file:\n",
    "    pickle.dump(x_scaler_min_max, x_scaler_min_max_file)\n",
    "\n",
    "with open('x_scaler_z_score.pkl', 'wb') as x_scaler_z_score_file:\n",
    "    pickle.dump(x_scaler_z_score, x_scaler_z_score_file)\n",
    "\n",
    "with open('x_scaler_robust.pkl', 'wb') as x_scaler_robust_file:\n",
    "    pickle.dump(x_scaler_robust, x_scaler_robust_file)\n",
    "\n",
    "# Save normalized input training data\n",
    "np.savetxt('x_train_normalized_min_max.txt', x_train_normalized_min_max)\n",
    "np.savetxt('x_train_standardized_z_score.txt', x_train_standardized_z_score)\n",
    "np.savetxt('x_train_robust_scaled.txt', x_train_robust_scaled)\n",
    "np.savetxt('x_train_normalized_unit_vector.txt', x_train_normalized_unit_vector)\n",
    "np.savetxt('x_train_scaled_max_abs.txt', x_train_scaled_max_abs)\n",
    "\n",
    "# Save normalized input test data\n",
    "np.savetxt('x_test_normalized_min_max.txt', x_test_normalized_min_max)\n",
    "np.savetxt('x_test_standardized_z_score.txt', x_test_standardized_z_score)\n",
    "np.savetxt('x_test_robust_scaled.txt', x_test_robust_scaled)\n",
    "np.savetxt('x_test_normalized_unit_vector.txt', x_test_normalized_unit_vector)\n",
    "np.savetxt('x_test_scaled_max_abs.txt', x_test_scaled_max_abs)"
   ]
  },
  {
   "cell_type": "code",
   "execution_count": null,
   "id": "27747b0a",
   "metadata": {},
   "outputs": [],
   "source": []
  }
 ],
 "metadata": {
  "kernelspec": {
   "display_name": "Python 3 (ipykernel)",
   "language": "python",
   "name": "python3"
  },
  "language_info": {
   "codemirror_mode": {
    "name": "ipython",
    "version": 3
   },
   "file_extension": ".py",
   "mimetype": "text/x-python",
   "name": "python",
   "nbconvert_exporter": "python",
   "pygments_lexer": "ipython3",
   "version": "3.10.12"
  }
 },
 "nbformat": 4,
 "nbformat_minor": 5
}
